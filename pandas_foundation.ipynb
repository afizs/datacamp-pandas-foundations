{
  "nbformat": 4,
  "nbformat_minor": 0,
  "metadata": {
    "colab": {
      "name": "pandas-foundation.ipynb",
      "provenance": [],
      "include_colab_link": true
    },
    "kernelspec": {
      "name": "python3",
      "display_name": "Python 3"
    }
  },
  "cells": [
    {
      "cell_type": "markdown",
      "metadata": {
        "id": "view-in-github",
        "colab_type": "text"
      },
      "source": [
        "<a href=\"https://colab.research.google.com/github/afizs/datacamp-pandas-foundations/blob/master/pandas_foundation.ipynb\" target=\"_parent\"><img src=\"https://colab.research.google.com/assets/colab-badge.svg\" alt=\"Open In Colab\"/></a>"
      ]
    },
    {
      "cell_type": "code",
      "metadata": {
        "id": "7KSjyvG5beWH",
        "colab_type": "code",
        "colab": {}
      },
      "source": [
        "import pandas as pd \n",
        "\n",
        "# Load CSV data  \n",
        "df = pd.read_csv('https://raw.githubusercontent.com/afizs/datacamp-pandas-foundations/master/world_ind_pop_data.csv')\n"
      ],
      "execution_count": 0,
      "outputs": []
    },
    {
      "cell_type": "code",
      "metadata": {
        "id": "BDlTm_VVcAZh",
        "colab_type": "code",
        "colab": {
          "base_uri": "https://localhost:8080/",
          "height": 153
        },
        "outputId": "1c095452-b391-42cc-82df-38958d0a9042"
      },
      "source": [
        "# Explore data frame \n",
        "print(df.head())"
      ],
      "execution_count": 2,
      "outputs": [
        {
          "output_type": "stream",
          "text": [
            "                               CountryName  ... Urban population (% of total)\n",
            "0                               Arab World  ...                     31.285384\n",
            "1                   Caribbean small states  ...                     31.597490\n",
            "2           Central Europe and the Baltics  ...                     44.507921\n",
            "3  East Asia & Pacific (all income levels)  ...                     22.471132\n",
            "4    East Asia & Pacific (developing only)  ...                     16.917679\n",
            "\n",
            "[5 rows x 5 columns]\n"
          ],
          "name": "stdout"
        }
      ]
    },
    {
      "cell_type": "code",
      "metadata": {
        "id": "ir-G0iOecHgp",
        "colab_type": "code",
        "colab": {
          "base_uri": "https://localhost:8080/",
          "height": 204
        },
        "outputId": "fbd3ba85-130d-491b-a768-f67d9ae891c0"
      },
      "source": [
        "df.tail()"
      ],
      "execution_count": 3,
      "outputs": [
        {
          "output_type": "execute_result",
          "data": {
            "text/html": [
              "<div>\n",
              "<style scoped>\n",
              "    .dataframe tbody tr th:only-of-type {\n",
              "        vertical-align: middle;\n",
              "    }\n",
              "\n",
              "    .dataframe tbody tr th {\n",
              "        vertical-align: top;\n",
              "    }\n",
              "\n",
              "    .dataframe thead th {\n",
              "        text-align: right;\n",
              "    }\n",
              "</style>\n",
              "<table border=\"1\" class=\"dataframe\">\n",
              "  <thead>\n",
              "    <tr style=\"text-align: right;\">\n",
              "      <th></th>\n",
              "      <th>CountryName</th>\n",
              "      <th>CountryCode</th>\n",
              "      <th>Year</th>\n",
              "      <th>Total Population</th>\n",
              "      <th>Urban population (% of total)</th>\n",
              "    </tr>\n",
              "  </thead>\n",
              "  <tbody>\n",
              "    <tr>\n",
              "      <th>13369</th>\n",
              "      <td>Virgin Islands (U.S.)</td>\n",
              "      <td>VIR</td>\n",
              "      <td>2014</td>\n",
              "      <td>104170.0</td>\n",
              "      <td>95.203</td>\n",
              "    </tr>\n",
              "    <tr>\n",
              "      <th>13370</th>\n",
              "      <td>West Bank and Gaza</td>\n",
              "      <td>WBG</td>\n",
              "      <td>2014</td>\n",
              "      <td>4294682.0</td>\n",
              "      <td>75.026</td>\n",
              "    </tr>\n",
              "    <tr>\n",
              "      <th>13371</th>\n",
              "      <td>Yemen, Rep.</td>\n",
              "      <td>YEM</td>\n",
              "      <td>2014</td>\n",
              "      <td>26183676.0</td>\n",
              "      <td>34.027</td>\n",
              "    </tr>\n",
              "    <tr>\n",
              "      <th>13372</th>\n",
              "      <td>Zambia</td>\n",
              "      <td>ZMB</td>\n",
              "      <td>2014</td>\n",
              "      <td>15721343.0</td>\n",
              "      <td>40.472</td>\n",
              "    </tr>\n",
              "    <tr>\n",
              "      <th>13373</th>\n",
              "      <td>Zimbabwe</td>\n",
              "      <td>ZWE</td>\n",
              "      <td>2014</td>\n",
              "      <td>15245855.0</td>\n",
              "      <td>32.501</td>\n",
              "    </tr>\n",
              "  </tbody>\n",
              "</table>\n",
              "</div>"
            ],
            "text/plain": [
              "                 CountryName  ... Urban population (% of total)\n",
              "13369  Virgin Islands (U.S.)  ...                        95.203\n",
              "13370     West Bank and Gaza  ...                        75.026\n",
              "13371            Yemen, Rep.  ...                        34.027\n",
              "13372                 Zambia  ...                        40.472\n",
              "13373               Zimbabwe  ...                        32.501\n",
              "\n",
              "[5 rows x 5 columns]"
            ]
          },
          "metadata": {
            "tags": []
          },
          "execution_count": 3
        }
      ]
    },
    {
      "cell_type": "code",
      "metadata": {
        "id": "chwpvf8WcKQY",
        "colab_type": "code",
        "colab": {}
      },
      "source": [
        ""
      ],
      "execution_count": 0,
      "outputs": []
    }
  ]
}